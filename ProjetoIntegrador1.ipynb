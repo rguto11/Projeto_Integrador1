{
 "cells": [
  {
   "cell_type": "markdown",
   "metadata": {
    "id": "THJuHQt9GPI0",
    "tags": []
   },
   "source": [
    "# Projeto Integrador I - EDA\n",
    "\n",
    "A imobiliária Properati publica periodicamente informações sobre ofertas de imóveis para venda e aluguel. Deve aconselhar o agente imobiliário a desenvolver um modelo de regressão que permita prever o preço por metro quadrado de um imóvel. O objetivo final é que o modelo desenvolvido por eles seja utilizado como avaliador automático a ser aplicado nos próximos imóveis que forem comercializados pela empresa. Para isso, a empresa disponibiliza um conjunto de dados correspondente ao primeiro semestre de 2017.\n",
    "\n",
    "\n",
    "**Objetivos:**\n",
    "\n",
    "\n",
    "*   Executar uma limpeza do conjunto de dados fornecido. Em particular, você precisará elaborar estratégias para lidar com dados ausentes em determinadas variáveis.\n",
    "*   Realizar uma análise descritiva das principais variáveis.\n",
    "*   Criar novas colunas de determinados recursos que podem ter valor preditivo.\n"
   ]
  },
  {
   "cell_type": "markdown",
   "metadata": {
    "id": "QENaxlhzBvYR",
    "tags": []
   },
   "source": [
    "## Importando a Base de Dados"
   ]
  },
  {
   "cell_type": "code",
   "execution_count": null,
   "metadata": {
    "id": "Wd0zGWh3Bu8s"
   },
   "outputs": [],
   "source": [
    "import pandas as pd\n",
    "import numpy as np\n",
    "import matplotlib.pyplot as plt\n",
    "import seaborn as sns"
   ]
  },
  {
   "cell_type": "code",
   "execution_count": null,
   "metadata": {
    "id": "-hrYdlbVC6MX"
   },
   "outputs": [],
   "source": [
    "prop = pd.read_csv(r\"C:\\Users\\RedRagon\\Documents\\ProjetoIntegrador1\\Data\\Real_State_Properati.csv\",sep='\\t')"
   ]
  },
  {
   "cell_type": "markdown",
   "metadata": {
    "id": "5s8xLmr8D7T7"
   },
   "source": [
    "## Entendo as informações que possuímos na base\n",
    "\n"
   ]
  },
  {
   "cell_type": "markdown",
   "metadata": {
    "id": "0hw04w_VHo6B"
   },
   "source": [
    "### Visualizando a base"
   ]
  },
  {
   "cell_type": "code",
   "execution_count": null,
   "metadata": {
    "colab": {
     "base_uri": "https://localhost:8080/"
    },
    "id": "TgA7wDYTIJgi",
    "outputId": "601b6c1f-9e7c-49fd-e1cd-f9f74849b041"
   },
   "outputs": [],
   "source": [
    "prop.shape"
   ]
  },
  {
   "cell_type": "code",
   "execution_count": null,
   "metadata": {
    "colab": {
     "base_uri": "https://localhost:8080/",
     "height": 206
    },
    "id": "mZZrci2nFliX",
    "outputId": "bcde844b-6bb6-419a-b94b-56c4c92541d7"
   },
   "outputs": [],
   "source": [
    "prop.head(5)"
   ]
  },
  {
   "cell_type": "markdown",
   "metadata": {
    "id": "M10moFZXHs8z"
   },
   "source": [
    "### Verificando se existem valores vazios ou nulos e os tipos das colunas"
   ]
  },
  {
   "cell_type": "code",
   "execution_count": null,
   "metadata": {
    "colab": {
     "base_uri": "https://localhost:8080/"
    },
    "id": "wUXX6Cr3Flm_",
    "outputId": "3c34b356-53b4-48e2-997e-766be388024f"
   },
   "outputs": [],
   "source": [
    "prop.isna().sum()"
   ]
  },
  {
   "cell_type": "code",
   "execution_count": null,
   "metadata": {
    "colab": {
     "base_uri": "https://localhost:8080/"
    },
    "id": "SSRC1b1GFuaB",
    "outputId": "7848c309-79c0-4634-a0bf-e80c6bca1b5b"
   },
   "outputs": [],
   "source": [
    "prop.info()"
   ]
  },
  {
   "cell_type": "markdown",
   "metadata": {
    "id": "NB-4IDYAH3FY"
   },
   "source": [
    "### Verificando quantos itens distintos possuímos nas colunas"
   ]
  },
  {
   "cell_type": "code",
   "execution_count": null,
   "metadata": {
    "colab": {
     "base_uri": "https://localhost:8080/"
    },
    "id": "oZGe4Z1ZFucj",
    "outputId": "1aeda938-54f8-4d0b-dc6a-d13e736e326b"
   },
   "outputs": [],
   "source": [
    "for col in prop.columns:\n",
    "    print(col, \"-\", len(prop[col].unique()))"
   ]
  },
  {
   "cell_type": "code",
   "execution_count": null,
   "metadata": {
    "colab": {
     "base_uri": "https://localhost:8080/"
    },
    "id": "Yvtdo6oBFufZ",
    "outputId": "a788c5ea-2a7e-40f2-fd77-83c437150c6e"
   },
   "outputs": [],
   "source": [
    "prop['property_type'].unique()"
   ]
  },
  {
   "cell_type": "markdown",
   "metadata": {
    "id": "0c65YsPwH9PJ"
   },
   "source": [
    "### Verificando qual a quantidade e o peso de cada tipo de Propriedade"
   ]
  },
  {
   "cell_type": "code",
   "execution_count": null,
   "metadata": {
    "colab": {
     "base_uri": "https://localhost:8080/"
    },
    "id": "rP4QPETmF1Tc",
    "outputId": "89603ab4-6896-4509-c39c-af6009ee4930"
   },
   "outputs": [],
   "source": [
    "prop.groupby(by = 'property_type').count()['place_name'].sort_values(ascending = False)"
   ]
  },
  {
   "cell_type": "code",
   "execution_count": null,
   "metadata": {
    "colab": {
     "base_uri": "https://localhost:8080/"
    },
    "id": "CXNfTWNKF1rR",
    "outputId": "81ec1e52-cc75-40b7-e568-f6a4c26ccc54"
   },
   "outputs": [],
   "source": [
    "prop['property_type'].value_counts()/len(prop['property_type'])*100"
   ]
  },
  {
   "cell_type": "markdown",
   "metadata": {
    "id": "OGsNENxUISXJ"
   },
   "source": [
    "### Verificando qual a quantidade e o peso de cada tipo de Moeda\n"
   ]
  },
  {
   "cell_type": "code",
   "execution_count": null,
   "metadata": {
    "colab": {
     "base_uri": "https://localhost:8080/"
    },
    "id": "Kz5hZO7qF1sD",
    "outputId": "27af6598-7c68-4e21-a532-3d7e2c41b8e5"
   },
   "outputs": [],
   "source": [
    "prop.groupby(by = 'currency').count()['place_name'].sort_values(ascending = False)"
   ]
  },
  {
   "cell_type": "code",
   "execution_count": null,
   "metadata": {
    "colab": {
     "base_uri": "https://localhost:8080/"
    },
    "id": "dYneo1PDF9go",
    "outputId": "e446fdbf-9f2c-43af-bbbf-ac5c0349a0ae"
   },
   "outputs": [],
   "source": [
    "prop['currency'].value_counts()/len(prop['currency'])*100"
   ]
  },
  {
   "cell_type": "markdown",
   "metadata": {
    "id": "dGC0CJiRD7gh"
   },
   "source": [
    "## Limpando os Dados"
   ]
  },
  {
   "cell_type": "markdown",
   "metadata": {
    "id": "cp8Irk1qJy1e"
   },
   "source": [
    "### Removendo colunas desnecessárias"
   ]
  },
  {
   "cell_type": "markdown",
   "metadata": {
    "id": "FcVY7NKb194a"
   },
   "source": [
    "Como o país e o estados são os mesmos pra todo o dataset, então podemos retirá-los pois não irá inteferir em nosso estudo."
   ]
  },
  {
   "cell_type": "code",
   "execution_count": null,
   "metadata": {
    "id": "cqazXnWgJSZX"
   },
   "outputs": [],
   "source": [
    "prop.drop(columns=['country_name','state_name'], inplace= True)"
   ]
  },
  {
   "cell_type": "code",
   "execution_count": null,
   "metadata": {
    "colab": {
     "base_uri": "https://localhost:8080/"
    },
    "id": "1wXakq0RJSbs",
    "outputId": "2ca707a3-c357-40ba-eda1-db2dace2434a"
   },
   "outputs": [],
   "source": [
    "prop.columns"
   ]
  },
  {
   "cell_type": "markdown",
   "metadata": {
    "id": "DS50PBc_MbpQ"
   },
   "source": [
    "### Normalizando o preço com base em dólares e removendo colunas desnecessárias"
   ]
  },
  {
   "cell_type": "code",
   "execution_count": null,
   "metadata": {
    "id": "dXvwqRhtJSeQ"
   },
   "outputs": [],
   "source": [
    "prop[\"price_usd\"] = prop.apply(lambda x: x[\"price\"] if x[\"currency\"] == \"USD\" else x[\"price\"]/117.41,axis=1)"
   ]
  },
  {
   "cell_type": "markdown",
   "metadata": {
    "id": "76ei6g4n2WnE"
   },
   "source": [
    "Como deixamos tudo em dólar e ainda criamos outra coluna para esse preço em dólar, podemos então tirar as colunas \"price\" e \"currency\" pois não fará diferença em nossos estudos também."
   ]
  },
  {
   "cell_type": "code",
   "execution_count": null,
   "metadata": {
    "id": "INLkHkuUMWfB"
   },
   "outputs": [],
   "source": [
    "prop.drop(columns=['price','currency'], inplace= True)"
   ]
  },
  {
   "cell_type": "code",
   "execution_count": null,
   "metadata": {
    "colab": {
     "base_uri": "https://localhost:8080/"
    },
    "id": "2KtxiNCpLv2o",
    "outputId": "d072881c-57c6-45e7-d43b-394621553339"
   },
   "outputs": [],
   "source": [
    "prop.columns"
   ]
  },
  {
   "cell_type": "markdown",
   "metadata": {
    "id": "oiP6pvOZwJJt"
   },
   "source": [
    "### Criando uma coluna com o preço por metro quadrado"
   ]
  },
  {
   "cell_type": "code",
   "execution_count": null,
   "metadata": {
    "id": "w9Lemi7uwJJu"
   },
   "outputs": [],
   "source": [
    "prop[\"preco_metro2\"] = prop.price_usd / prop.surface_total_in_m2"
   ]
  },
  {
   "cell_type": "code",
   "execution_count": null,
   "metadata": {
    "colab": {
     "base_uri": "https://localhost:8080/"
    },
    "id": "fAwZH7ElwJJu",
    "outputId": "7f857203-0a3e-495c-9380-6ce761231ece"
   },
   "outputs": [],
   "source": [
    "prop.columns"
   ]
  },
  {
   "cell_type": "markdown",
   "metadata": {
    "id": "OcMN2kZMPSIf"
   },
   "source": [
    "### Verificando a distribuição dos dados para as colunas de tamanho e preço de propriedade"
   ]
  },
  {
   "cell_type": "code",
   "execution_count": null,
   "metadata": {
    "colab": {
     "base_uri": "https://localhost:8080/"
    },
    "id": "XXvMhu6YNhTo",
    "outputId": "4d720dce-7d79-4434-e274-88aae7c891c1"
   },
   "outputs": [],
   "source": [
    "for i in prop.property_type.unique():\n",
    "    print(i)\n",
    "    print(prop.loc[prop.property_type == i,['preco_metro2']].describe())\n",
    "    print('--------------------')"
   ]
  },
  {
   "cell_type": "markdown",
   "metadata": {
    "id": "qHO8fGEtwJJu"
   },
   "source": [
    "#### Identificado que existe problema com a coluna preço por metro quadrado para o apartamentos"
   ]
  },
  {
   "cell_type": "code",
   "execution_count": null,
   "metadata": {
    "colab": {
     "base_uri": "https://localhost:8080/"
    },
    "id": "xbu3Xz41wJJu",
    "outputId": "28abe65a-fd34-4e36-91d0-f66de2f0be55"
   },
   "outputs": [],
   "source": [
    "for i in prop.property_type.unique():\n",
    "    print(i)\n",
    "    print(prop.loc[prop.property_type == i, 'preco_metro2'].std())\n",
    "    print('--------------------')"
   ]
  },
  {
   "cell_type": "markdown",
   "metadata": {
    "id": "Isc99JuO3aEM"
   },
   "source": [
    "Olhando o notebook, verificamos que contém alguns imóveis com a surface igual a 0."
   ]
  },
  {
   "cell_type": "code",
   "execution_count": null,
   "metadata": {
    "colab": {
     "base_uri": "https://localhost:8080/",
     "height": 49
    },
    "id": "9pHpkS2pwJJv",
    "outputId": "f722a25b-a776-42de-9124-29bf8044d093"
   },
   "outputs": [],
   "source": [
    "prop[(prop.property_type == 'apartment') & (prop.surface_total_in_m2 == 0)]"
   ]
  },
  {
   "cell_type": "markdown",
   "metadata": {
    "id": "EO4vV9sYwJJv",
    "tags": []
   },
   "source": [
    "#### Removendo essas linhas e verificando os novos valores de desvio padrão"
   ]
  },
  {
   "cell_type": "code",
   "execution_count": null,
   "metadata": {
    "id": "xiiyUSO_wJJv"
   },
   "outputs": [],
   "source": [
    "prop.drop(index = list(prop[(prop.property_type == 'apartment') & (prop.surface_total_in_m2 == 0)].index),inplace = True)"
   ]
  },
  {
   "cell_type": "code",
   "execution_count": null,
   "metadata": {
    "colab": {
     "base_uri": "https://localhost:8080/"
    },
    "id": "mPbllXkBwJJv",
    "outputId": "dbcb3ad9-a8ac-4e16-fc91-c0c28bd3105f"
   },
   "outputs": [],
   "source": [
    "for i in prop.property_type.unique():\n",
    "    print(prop.loc[prop.property_type == i, 'preco_metro2'].std())"
   ]
  },
  {
   "cell_type": "markdown",
   "metadata": {
    "id": "iNLbpv74wJJv"
   },
   "source": [
    "### Limpando os dados conforme a distribuição - Via Desvio Padrão"
   ]
  },
  {
   "cell_type": "code",
   "execution_count": null,
   "metadata": {
    "colab": {
     "base_uri": "https://localhost:8080/"
    },
    "id": "RJK-pMv9wJJw",
    "outputId": "97007b99-fe19-419e-e32a-093778055014"
   },
   "outputs": [],
   "source": [
    "for i in prop.property_type.unique():\n",
    "    print(i)\n",
    "    print(\"Temos\", prop.loc[(prop.property_type == i) & (prop.preco_metro2 > 3*prop.preco_metro2.std()),'preco_metro2'].shape[0], \"linha(s) onde o valor supera 3 vezes o desvio padrão\")\n",
    "    print('-------------------------------------------------------------')"
   ]
  },
  {
   "cell_type": "code",
   "execution_count": null,
   "metadata": {
    "id": "aR3Bpk7hwJJw"
   },
   "outputs": [],
   "source": [
    "for i in prop.property_type.unique():\n",
    "    prop.drop(index = list(prop.loc[(prop.property_type == i) & (prop.preco_metro2 > 3*prop.preco_metro2.std())].index), inplace = True)"
   ]
  },
  {
   "cell_type": "code",
   "execution_count": null,
   "metadata": {
    "colab": {
     "base_uri": "https://localhost:8080/"
    },
    "id": "wFO9T8BMwJJw",
    "outputId": "f4cc54f7-081f-49b5-9ccd-a4fcf633e87c"
   },
   "outputs": [],
   "source": [
    "for i in prop.property_type.unique():\n",
    "    print(i)\n",
    "    print(prop.loc[prop.property_type == i,['preco_metro2']].describe())\n",
    "    print('--------------------')"
   ]
  },
  {
   "cell_type": "code",
   "execution_count": null,
   "metadata": {
    "colab": {
     "base_uri": "https://localhost:8080/"
    },
    "id": "kBDtl1OGwJJw",
    "outputId": "f53a6cbe-cbba-4bb1-d030-dcc4fabe7f55"
   },
   "outputs": [],
   "source": [
    "prop.shape"
   ]
  },
  {
   "cell_type": "markdown",
   "metadata": {
    "id": "jgbfAT06wJJw"
   },
   "source": [
    "## Plotandos os dados"
   ]
  },
  {
   "cell_type": "code",
   "execution_count": null,
   "metadata": {
    "colab": {
     "base_uri": "https://localhost:8080/",
     "height": 350
    },
    "id": "ZB0cQVASwJJw",
    "outputId": "7e844595-e06a-495e-93f7-dfb3fee2e9e5"
   },
   "outputs": [],
   "source": [
    "ax = sns.violinplot(data = prop, x = \"property_type\" , y = \"preco_metro2\", palette='Set2')\n",
    "plt.title(\"Distribuição das propriedades por valor\")\n",
    "ax.figure.set_size_inches(20, 5)"
   ]
  },
  {
   "cell_type": "code",
   "execution_count": null,
   "metadata": {
    "colab": {
     "base_uri": "https://localhost:8080/",
     "height": 351
    },
    "id": "FjOlEUe2wJJx",
    "outputId": "87736a26-a905-4bae-b3cb-bdff771b97e3"
   },
   "outputs": [],
   "source": [
    "ay = sns.histplot(data=prop, x=\"preco_metro2\", hue=\"property_type\", multiple='stack', palette='Set2')\n",
    "plt.title(\"Distribuição das propriedades por valor\")\n",
    "ay.figure.set_size_inches(20, 5)"
   ]
  },
  {
   "cell_type": "markdown",
   "metadata": {
    "id": "xa1tXHC9D7o8"
   },
   "source": [
    "## Criando variáveis"
   ]
  },
  {
   "cell_type": "markdown",
   "metadata": {
    "id": "N5ttnZjGwJJx"
   },
   "source": [
    "### Faixas de Preco"
   ]
  },
  {
   "cell_type": "code",
   "execution_count": null,
   "metadata": {
    "id": "K3qDWso6wJJx"
   },
   "outputs": [],
   "source": [
    "prop['Faixas_de_preco_m2'] = pd.qcut(x = prop.preco_metro2, q = 10, labels = [1,2,3,4,5,6,7,8,9,10])"
   ]
  },
  {
   "cell_type": "code",
   "execution_count": null,
   "metadata": {
    "colab": {
     "base_uri": "https://localhost:8080/",
     "height": 206
    },
    "id": "nBrNXHUhwJJx",
    "outputId": "0a7a6d15-e203-4bea-e0ec-8eb8e6f2fee7"
   },
   "outputs": [],
   "source": [
    "prop.head()"
   ]
  },
  {
   "cell_type": "code",
   "execution_count": null,
   "metadata": {
    "colab": {
     "base_uri": "https://localhost:8080/",
     "height": 455
    },
    "id": "fpor9IXdwJJy",
    "outputId": "24ec9554-bf82-480b-b114-42c027d6bdb3"
   },
   "outputs": [],
   "source": [
    "tb = prop.loc[prop.property_type == 'apartment', ['place_name','Faixas_de_preco_m2', 'preco_metro2']].\\\n",
    "pivot_table(values = 'place_name', index = 'place_name', columns = 'Faixas_de_preco_m2', aggfunc = 'count')\n",
    "tb.round()"
   ]
  },
  {
   "cell_type": "code",
   "execution_count": null,
   "metadata": {
    "colab": {
     "base_uri": "https://localhost:8080/",
     "height": 606
    },
    "id": "TUYzbOjY_1cf",
    "outputId": "7f538801-dc80-4702-baf9-94f90d86ef81"
   },
   "outputs": [],
   "source": [
    "az = sns.heatmap( data = tb.sort_values(by = 10, ascending = False).head(20) , linewidths=1, cmap=\"YlGnBu\")\n",
    "az.figure.set_size_inches(20, 10)"
   ]
  }
 ],
 "metadata": {
  "colab": {
   "collapsed_sections": [],
   "name": "Notebook_EDA.ipynb",
   "provenance": [],
   "toc_visible": true
  },
  "kernelspec": {
   "display_name": "Python 3 (ipykernel)",
   "language": "python",
   "name": "python3"
  },
  "language_info": {
   "codemirror_mode": {
    "name": "ipython",
    "version": 3
   },
   "file_extension": ".py",
   "mimetype": "text/x-python",
   "name": "python",
   "nbconvert_exporter": "python",
   "pygments_lexer": "ipython3",
   "version": "3.9.11"
  },
  "toc-autonumbering": false,
  "toc-showcode": false,
  "toc-showmarkdowntxt": false,
  "toc-showtags": false
 },
 "nbformat": 4,
 "nbformat_minor": 4
}
